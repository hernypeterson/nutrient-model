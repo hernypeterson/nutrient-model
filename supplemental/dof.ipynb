{
 "cells": [
  {
   "cell_type": "code",
   "execution_count": 1,
   "metadata": {},
   "outputs": [],
   "source": [
    "import numpy as np"
   ]
  },
  {
   "cell_type": "markdown",
   "id": "e9ef14f3",
   "metadata": {},
   "source": [
    "# Degrees of Freedom\n",
    "\n",
    "If you experimented with changing $Q$ at all, you may have noticed it takes some effort to actually keep all the tank volumes balanced over time. When we defined each diagonal term to ensure that each column sums to zero, we saw that only under very particular circumstances did the rows also sum to zero. If we decide to ensure that each flow should be between exactly two tanks and all tank volumes should be constant, we have a new system of equations to solve (just linear equations, not differential equations). Specifically, there are 8 equations (one to set each row and column equal to zero) and 16 unknown variables (the entries of the matrix). Mathematically, the system is considered \"underdetermined;\" there are more variables to adjust than there are equations to relate them. And this is clearly the case, since to construct our matrix $Q$ used the 12 variables provided in the model diagram. See if you can find all 12, remembering that those with a value of 0 are not shown explicitly. These 12 variables are what we entered in $Q_h$, at which point we could calculate the remaining 4.\n",
    "\n",
    "But did we really need all 12? It turns out that we did not. To see that this is the case, you can try \"covering up\" one of the flow rate labels and determine what it must be to keep all the other flows balanced. What this means is that at least one of the provided flow rates is redundant. You may wonder how many redundancies there are. I found 3. Together with the four diagonal entries we've already discussed, this means we can calculate 7 entries of $Q$ as long as we're given the other 9.\n",
    "\n",
    "I wrote a short algorithm to do this calculation, assuming the 7 unknown entries are arranged on the diagonal and subdiagonal (sort of like an _extra_ hollow matrix).\n",
    "\n",
    "We can check that our entire $Q$ matrix can be recovered from just 4 non-zero entries (5 zeros). Unlike the previous construction, this matrix will always have each row and each column sum to zero, just like we want. This provides a way to experiment more freely without having to balance terms manually. However, we will want to check that none of the diagonal entries are positive, and none of the subdiagonal entries are negative."
   ]
  },
  {
   "cell_type": "code",
   "execution_count": 2,
   "id": "c82cac57",
   "metadata": {},
   "outputs": [
    {
     "name": "stdout",
     "output_type": "stream",
     "text": [
      "- - - - - - - - - - - -\n",
      "[[-18   2  10   6]\n",
      " [  8 -12   4   0]\n",
      " [  0  10 -12   2]\n",
      " [ 10   0  -2  -8]]\n",
      "- - - - - - - - - - - -\n",
      "Diagonal Sign Check: [ True  True  True  True]\n",
      "Subiagonal Sign Check: [ True  True False]\n"
     ]
    }
   ],
   "source": [
    "# number of tanks \n",
    "n = 4\n",
    "\n",
    "# empty diagonal and subdiagonal\n",
    "Xt = np.array([[0, 2, 10, 6],\n",
    "               [0, 0, 4, 0],\n",
    "               [0, 0, 0, 2],\n",
    "               [10, 0, 0, 0]]) # L/hr\n",
    "\n",
    "def fill_matrix(M):\n",
    "    for i in range(n - 1):\n",
    "        np.put(M, [i * n + i], -M.sum(axis=1)[i])\n",
    "        np.put(M, [(i + 1) * n + i], -M.sum(axis=0)[i])\n",
    "    np.put(M, [(n - 1) * n + (n - 1)], -M.sum(axis=1)[3])\n",
    "    return M\n",
    "\n",
    "\n",
    "\n",
    "print(\"- - - - - - - - - - - -\")\n",
    "\n",
    "print(fill_matrix(Xt))\n",
    "\n",
    "print(\"- - - - - - - - - - - -\")\n",
    "\n",
    "print(f\"Diagonal Sign Check: {np.diagonal(Xt) <= 0}\")\n",
    "print(f\"Subiagonal Sign Check: {np.diagonal(Xt, -1) >= 0}\")"
   ]
  }
 ],
 "metadata": {
  "kernelspec": {
   "display_name": "Python 3.8.8",
   "language": "python",
   "name": "python3"
  },
  "language_info": {
   "codemirror_mode": {
    "name": "ipython",
    "version": 3
   },
   "file_extension": ".py",
   "mimetype": "text/x-python",
   "name": "python",
   "nbconvert_exporter": "python",
   "pygments_lexer": "ipython3",
   "version": "3.8.8"
  },
  "orig_nbformat": 4,
  "vscode": {
   "interpreter": {
    "hash": "38cca0c38332a56087b24af0bc80247f4fced29cb4f7f437d91dc159adec9c4e"
   }
  }
 },
 "nbformat": 4,
 "nbformat_minor": 2
}
